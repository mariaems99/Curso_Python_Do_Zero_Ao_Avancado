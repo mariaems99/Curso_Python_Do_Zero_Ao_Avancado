{
  "nbformat": 4,
  "nbformat_minor": 0,
  "metadata": {
    "colab": {
      "provenance": [],
      "authorship_tag": "ABX9TyPVj/JEPz5SRhMWAzbjvJ4Y",
      "include_colab_link": true
    },
    "kernelspec": {
      "name": "python3",
      "display_name": "Python 3"
    },
    "language_info": {
      "name": "python"
    }
  },
  "cells": [
    {
      "cell_type": "markdown",
      "metadata": {
        "id": "view-in-github",
        "colab_type": "text"
      },
      "source": [
        "<a href=\"https://colab.research.google.com/github/mariaems99/Curso_Python_Do_Zero_Ao_Avancado/blob/main/Curso_Completo_de_Python_do_Zero_ao_Avan%C3%A7ado.ipynb\" target=\"_parent\"><img src=\"https://colab.research.google.com/assets/colab-badge.svg\" alt=\"Open In Colab\"/></a>"
      ]
    },
    {
      "cell_type": "markdown",
      "source": [
        "#VARIÁVEIS\n"
      ],
      "metadata": {
        "id": "5SuufJiGuMsc"
      }
    },
    {
      "cell_type": "code",
      "source": [
        "media = 0\n",
        "n1 = n2 = n3 = n4 = 0.0\n",
        "nome, idade = 'Fábio', 70\n",
        "estado = True\n",
        "\n",
        "#funcao type() - para saber o tipo\n",
        "print(type(media))\n",
        "print(type(n2))\n",
        "print(type(nome))\n",
        "print(type(estado))\n",
        "print(type(1+2j))     #número complexo\n",
        "\n",
        "#funcao isinstance()  - é uma ocorrência de uma determinada classe, de um determinado tipo, retorna True se for e False caso contrário.\n",
        "a = 10\n",
        "b = 'Sol'\n",
        "print(isinstance(a, int))  #vai dar true\n",
        "print(isinstance(b, float))  #vai dar false\n",
        "print(isinstance(a, (int, float)))  #int ou float\n"
      ],
      "metadata": {
        "colab": {
          "base_uri": "https://localhost:8080/"
        },
        "id": "afduGtJ9uOYk",
        "outputId": "9340cb86-a104-4a3f-9d8f-c708a20daf24"
      },
      "execution_count": 9,
      "outputs": [
        {
          "output_type": "stream",
          "name": "stdout",
          "text": [
            "<class 'int'>\n",
            "<class 'float'>\n",
            "<class 'str'>\n",
            "<class 'bool'>\n",
            "<class 'complex'>\n",
            "True\n",
            "False\n",
            "True\n"
          ]
        }
      ]
    },
    {
      "cell_type": "markdown",
      "source": [
        "#OPERADORES LÓGICOS"
      ],
      "metadata": {
        "id": "XoSDZgFj3dmN"
      }
    },
    {
      "cell_type": "code",
      "source": [
        "idade = 25\n",
        "altura = 1.75\n",
        "resultado = (idade >= 18) and (altura >= 1.70)\n",
        "msg = (f'Pode participar do evento? {resultado}')\n",
        "print(msg)"
      ],
      "metadata": {
        "colab": {
          "base_uri": "https://localhost:8080/"
        },
        "id": "D25nWx-kvU9L",
        "outputId": "2538fbab-26bf-4cfa-9e2a-707d1ad72482"
      },
      "execution_count": 11,
      "outputs": [
        {
          "output_type": "stream",
          "name": "stdout",
          "text": [
            "Pode participar do evento? True\n"
          ]
        }
      ]
    },
    {
      "cell_type": "code",
      "source": [
        "#PROGRAMA DE DISPARO DE ALARME\n",
        "\n",
        "porta = 'fechada'\n",
        "janela = 'fechada'\n",
        "\n",
        "alarme = (porta == 'aberta') or (janela == 'aberta')\n",
        "msg = (f'Alarme disparado? {alarme}')\n",
        "print(msg)"
      ],
      "metadata": {
        "colab": {
          "base_uri": "https://localhost:8080/"
        },
        "id": "gzoRHRtm4XK0",
        "outputId": "f9df5310-d874-45d6-f5d8-5bcd9ea108b1"
      },
      "execution_count": 12,
      "outputs": [
        {
          "output_type": "stream",
          "name": "stdout",
          "text": [
            "Alarme disparado? False\n"
          ]
        }
      ]
    },
    {
      "cell_type": "code",
      "source": [
        "tem_dinheiro = False\n",
        "tem_dinheiro = not tem_dinheiro\n",
        "\n",
        "msg = (f'Tem dinheiro? {tem_dinheiro}')\n",
        "print(msg)"
      ],
      "metadata": {
        "colab": {
          "base_uri": "https://localhost:8080/"
        },
        "id": "TITfHOBJEzwS",
        "outputId": "e318d988-4e3c-4930-cbf5-d0e96a565fc5"
      },
      "execution_count": 14,
      "outputs": [
        {
          "output_type": "stream",
          "name": "stdout",
          "text": [
            "Tem dinheiro? True\n"
          ]
        }
      ]
    },
    {
      "cell_type": "markdown",
      "source": [
        "#CONDICIONAIS\n",
        "\n",
        "######SIMPLES, COMPOSTO, ENCADEADO"
      ],
      "metadata": {
        "id": "4ZmE03FUGOjv"
      }
    },
    {
      "cell_type": "code",
      "source": [
        "#Calcular a media aritmética das notas\n",
        "\n",
        "nota_1 = float(input('Digite a primeira nota: '))\n",
        "nota_2 = float(input('Digite a segunda nota: '))\n",
        "\n",
        "media = (nota_1 + nota_2) / 2\n",
        "\n",
        "if (media >=7):\n",
        "  print('Resultado: Aprovado')\n",
        "  print('Parabéns')\n",
        "else:\n",
        "  print('Aluno reprovado')\n",
        "\n",
        "print(f'Sua média é {media:.2f}')"
      ],
      "metadata": {
        "colab": {
          "base_uri": "https://localhost:8080/"
        },
        "id": "ChvV-oevFqr6",
        "outputId": "00aad55e-a08a-41ea-b3ac-a903db40e107"
      },
      "execution_count": 18,
      "outputs": [
        {
          "output_type": "stream",
          "name": "stdout",
          "text": [
            "Digite a primeira nota: 8\n",
            "Digite a segunda nota: 2.5\n",
            "Aluno reprovado\n",
            "Sua média é 5.25\n"
          ]
        }
      ]
    },
    {
      "cell_type": "code",
      "source": [
        "nota_1 = float(input('Digite a primeira nota: '))\n",
        "nota_2 = float(input('Digite a segunda nota: '))\n",
        "\n",
        "media = (nota_1 + nota_2) / 2\n",
        "\n",
        "if (media >=7):\n",
        "  print('Resultado: Aprovado')\n",
        "  print('Parabéns')\n",
        "elif (media >= 5):\n",
        "    print('Você está em recuperação')\n",
        "else:\n",
        "  print('Aluno reprovado')\n",
        "\n",
        "print(f'Sua média é {media:.2f}')"
      ],
      "metadata": {
        "colab": {
          "base_uri": "https://localhost:8080/"
        },
        "id": "imy4jwTtHNhQ",
        "outputId": "9be06d05-90cd-4f8d-f480-f69897cd7ca8"
      },
      "execution_count": 19,
      "outputs": [
        {
          "output_type": "stream",
          "name": "stdout",
          "text": [
            "Digite a primeira nota: 6\n",
            "Digite a segunda nota: 5\n",
            "Você está em recuperação\n",
            "Sua média é 5.50\n"
          ]
        }
      ]
    },
    {
      "cell_type": "markdown",
      "source": [
        "#SAÍDA DE DADOS COM funcao print()\n",
        "\n",
        "###Sintaxe:\n",
        "\n",
        "print(objetos,argumentos)"
      ],
      "metadata": {
        "id": "sHMFcQ0YJYkY"
      }
    },
    {
      "cell_type": "code",
      "source": [
        "sobrenome = 'Freitas'\n",
        "print('Fábio', sobrenome)\n",
        "\n",
        "nome = 'Fábio'\n",
        "sobrenome = 'Freitas'\n",
        "print(nome, sobrenome)"
      ],
      "metadata": {
        "colab": {
          "base_uri": "https://localhost:8080/"
        },
        "id": "EAXSAlI9IvZq",
        "outputId": "8e56e3c3-2de0-4934-97d9-95da2442e8e8"
      },
      "execution_count": 23,
      "outputs": [
        {
          "output_type": "stream",
          "name": "stdout",
          "text": [
            "Fábio Freitas\n",
            "Fábio Freitas\n"
          ]
        }
      ]
    },
    {
      "cell_type": "code",
      "source": [
        "#CONCANTENAÇÃO\n",
        "\n",
        "nome = input('Digite o seu nome: ')\n",
        "mensagem = 'Olá ' + nome + ' seja bem vindo(a)!'\n",
        "print(mensagem)"
      ],
      "metadata": {
        "colab": {
          "base_uri": "https://localhost:8080/"
        },
        "id": "WnlIWzrfJ3Yv",
        "outputId": "304060f3-9200-40ba-ce35-e826e5076fbf"
      },
      "execution_count": 30,
      "outputs": [
        {
          "output_type": "stream",
          "name": "stdout",
          "text": [
            "Digite o seu nome: Maria\n",
            "Olá Maria seja bem vindo(a)!\n"
          ]
        }
      ]
    },
    {
      "cell_type": "code",
      "source": [
        "#QUANDO NÃO TEM QUEBRA DE LINHA - end=''\n",
        "\n",
        "print('Imprime a mensagem e muda de linha')\n",
        "print('Imprime a mensagem e permance na linha', end='')\n",
        "print('Continuo na mesma linha')"
      ],
      "metadata": {
        "colab": {
          "base_uri": "https://localhost:8080/"
        },
        "id": "fLtNuj6XNQLG",
        "outputId": "066ce37b-7c89-46bf-e898-3a4d9d488e6c"
      },
      "execution_count": 31,
      "outputs": [
        {
          "output_type": "stream",
          "name": "stdout",
          "text": [
            "Imprime a mensagem e muda de linha\n",
            "Imprime a mensagem e permance na linhaContinuo na mesma linha\n"
          ]
        }
      ]
    },
    {
      "cell_type": "markdown",
      "source": [
        "#FORMATAÇÃO"
      ],
      "metadata": {
        "id": "g7m681ErQ6pZ"
      }
    },
    {
      "cell_type": "code",
      "source": [
        "nome = 'Maria'\n",
        "idade = 30\n",
        "mensagem_formatada = ('O nome dela é {0} e ela tem {1} anos'.format(nome, idade))\n",
        "print(mensagem_formatada)"
      ],
      "metadata": {
        "colab": {
          "base_uri": "https://localhost:8080/"
        },
        "id": "qBnBvHL6QBmJ",
        "outputId": "be36c725-9e44-4b51-ccc8-77db04d5e57f"
      },
      "execution_count": 34,
      "outputs": [
        {
          "output_type": "stream",
          "name": "stdout",
          "text": [
            "O nome dela é Maria e ela tem 30 anos\n"
          ]
        }
      ]
    },
    {
      "cell_type": "code",
      "source": [
        "#FORMATAÇÃO COM f-string\n",
        "\n",
        "nome = 'Carla'\n",
        "peso = 75.50\n",
        "mensagem_formatada = (f'O nome dela é {nome} e ela pesa {peso} kg')\n",
        "print(mensagem_formatada)"
      ],
      "metadata": {
        "colab": {
          "base_uri": "https://localhost:8080/"
        },
        "id": "4ypsZ382RKhc",
        "outputId": "65adc5ee-4a01-4993-8080-14d4483a8b65"
      },
      "execution_count": 35,
      "outputs": [
        {
          "output_type": "stream",
          "name": "stdout",
          "text": [
            "O nome dela é Carla e ela pesa 75.5 kg\n"
          ]
        }
      ]
    },
    {
      "cell_type": "code",
      "source": [
        "#FORMATAÇÃO COM f-string\n",
        "\n",
        "a = 10\n",
        "b = 5\n",
        "resultado = (f'A soma de {a} com {b} é {a+b}')\n",
        "print(resultado)"
      ],
      "metadata": {
        "colab": {
          "base_uri": "https://localhost:8080/"
        },
        "id": "x3qXgdZeUXkp",
        "outputId": "5135d3f1-52a8-408a-a318-1bbb844e62d5"
      },
      "execution_count": 37,
      "outputs": [
        {
          "output_type": "stream",
          "name": "stdout",
          "text": [
            "A soma de 10 com 5 é 15\n"
          ]
        }
      ]
    },
    {
      "cell_type": "code",
      "source": [
        "#\\ caractere de escape\n",
        "\n",
        "valor = 125.573637\n",
        "print(f'O valor é \\' {valor:.2f}\\'')     #\\ caractere de escape\n"
      ],
      "metadata": {
        "colab": {
          "base_uri": "https://localhost:8080/"
        },
        "id": "gSMEeo7DU2tS",
        "outputId": "18507580-e6db-40ad-e75c-df3e5f5ba85b"
      },
      "execution_count": 39,
      "outputs": [
        {
          "output_type": "stream",
          "name": "stdout",
          "text": [
            "O valor é ' 125.57'\n"
          ]
        }
      ]
    },
    {
      "cell_type": "code",
      "source": [
        "#\\t caractere de escape\n",
        "\n",
        "nome = 'João'\n",
        "idade = 21\n",
        "print(f'Nome: {nome}\\tIdade: {idade}')\n"
      ],
      "metadata": {
        "colab": {
          "base_uri": "https://localhost:8080/"
        },
        "id": "sB5orEm0Vgw5",
        "outputId": "136438a5-8c60-45a8-dfb4-92cb28c6334c"
      },
      "execution_count": 41,
      "outputs": [
        {
          "output_type": "stream",
          "name": "stdout",
          "text": [
            "Nome: João\tIdade: 21\n"
          ]
        }
      ]
    },
    {
      "cell_type": "markdown",
      "source": [
        "#LAÇOS DE REPETIÇÃO\n",
        "\n",
        "\n",
        "###-while\n",
        "\n",
        "###-for\n"
      ],
      "metadata": {
        "id": "_e8iSMLUX13z"
      }
    },
    {
      "cell_type": "code",
      "source": [
        "numero = 1\n",
        "\n",
        "while (numero <= 10 ):    #enquanto o número for menor ou igual a 10 faça\n",
        "    print(numero)\n",
        "    numero +=1\n",
        "print('Laço encerrado')\n"
      ],
      "metadata": {
        "colab": {
          "base_uri": "https://localhost:8080/"
        },
        "id": "-s_wqeplXptX",
        "outputId": "c23e5241-d559-4646-b45e-92224ea5633d"
      },
      "execution_count": 45,
      "outputs": [
        {
          "output_type": "stream",
          "name": "stdout",
          "text": [
            "1\n",
            "2\n",
            "3\n",
            "4\n",
            "5\n",
            "6\n",
            "7\n",
            "8\n",
            "9\n",
            "10\n",
            "Laço encerrado\n"
          ]
        }
      ]
    },
    {
      "cell_type": "code",
      "source": [
        "nome = None             #A variável nome é inicializada com None para garantir que tenha um valor antes do loop começar.\n",
        "\n",
        "while True:                     #O loop while True cria uma repetição infinita até que uma condição de parada seja encontrada.\n",
        "    print('Digite o seu nome, ou x para parar: ')  #O programa pede ao usuário para digitar o nome e armazena o valor na variável nome.\n",
        "    nome = input()\n",
        "    if (nome == 'x') or (nome == 'X'):    #Se o usuário digitar 'x' ou 'X', o break interrompe o loop e o programa segue para a última mensagem de despedida.\n",
        "         break\n",
        "    print(f'Bem vindo(a), {nome}')\n",
        "print('Até logo!')"
      ],
      "metadata": {
        "colab": {
          "base_uri": "https://localhost:8080/"
        },
        "id": "XPXVwvp_xU2w",
        "outputId": "52a9e103-4f47-4646-d165-656dcc1fe154"
      },
      "execution_count": 47,
      "outputs": [
        {
          "output_type": "stream",
          "name": "stdout",
          "text": [
            "Digite o seu nome, ou x para parar: \n",
            "Laura\n",
            "Bem vindo(a), Laura\n",
            "Digite o seu nome, ou x para parar: \n",
            "Pedro\n",
            "Bem vindo(a), Pedro\n",
            "Digite o seu nome, ou x para parar: \n",
            "x\n",
            "Até logo!\n"
          ]
        }
      ]
    },
    {
      "cell_type": "markdown",
      "source": [
        "#FOR\n",
        "\n",
        "permite construir estruturas par a iteração em sequência de dados, listas, conjuntos...\n",
        "\n",
        "for item in sequência:\n",
        "    instruções executadas para cada item da sequência\n",
        "\n",
        "Para cada item\n",
        "\n",
        "item - variável que você vai criar\n",
        "in - operador de associação\n",
        "sequência - conjunto de valores pelos quais você quer aplicar algum tipo de processo.\n"
      ],
      "metadata": {
        "id": "KVei8Tmg5Tpj"
      }
    },
    {
      "cell_type": "code",
      "source": [
        "lista = [2,6,9,4,0,12,3,7]             #estrutura de dados lista\n",
        "\n",
        "for item in lista:       #vai verificar se o item está dentro da sequência que é a variável lista/ para cada item dentro da lista faça alguma coisa com esse item\n",
        "    print(item)\n"
      ],
      "metadata": {
        "colab": {
          "base_uri": "https://localhost:8080/"
        },
        "id": "hsfq4wtz1ykJ",
        "outputId": "742da932-1c43-414a-e4ca-9173d2a5aa90"
      },
      "execution_count": 50,
      "outputs": [
        {
          "output_type": "stream",
          "name": "stdout",
          "text": [
            "2\n",
            "6\n",
            "9\n",
            "4\n",
            "0\n",
            "12\n",
            "3\n",
            "7\n"
          ]
        }
      ]
    },
    {
      "cell_type": "code",
      "source": [
        "palavra = 'Python'\n",
        "\n",
        "for letra in palavra:  #laço for para iterar sobre cada caractere da palavra definida na variável palavra. Ele exibe cada letra individualmente na saída.\n",
        "    print(letra)"
      ],
      "metadata": {
        "colab": {
          "base_uri": "https://localhost:8080/"
        },
        "id": "2Z4olFYJAOWg",
        "outputId": "5d795941-0201-439c-d0e5-9aef7da4a08a"
      },
      "execution_count": 51,
      "outputs": [
        {
          "output_type": "stream",
          "name": "stdout",
          "text": [
            "P\n",
            "y\n",
            "t\n",
            "h\n",
            "o\n",
            "n\n"
          ]
        }
      ]
    },
    {
      "cell_type": "code",
      "source": [
        "#FUNÇÃO range()  -  utilizada para gerar uma sequência numérica\n",
        "\n",
        "for numero in range(1,11):  #vai imprimir de 1 a 10, ele não gera o 11\n",
        "    print(numero)"
      ],
      "metadata": {
        "colab": {
          "base_uri": "https://localhost:8080/"
        },
        "id": "TVxZaoYsA0Ra",
        "outputId": "96aff088-5622-418a-df85-9e25e106bbee"
      },
      "execution_count": 52,
      "outputs": [
        {
          "output_type": "stream",
          "name": "stdout",
          "text": [
            "1\n",
            "2\n",
            "3\n",
            "4\n",
            "5\n",
            "6\n",
            "7\n",
            "8\n",
            "9\n",
            "10\n"
          ]
        }
      ]
    },
    {
      "cell_type": "code",
      "source": [],
      "metadata": {
        "id": "Xx8kA75fCF_A"
      },
      "execution_count": null,
      "outputs": []
    }
  ]
}